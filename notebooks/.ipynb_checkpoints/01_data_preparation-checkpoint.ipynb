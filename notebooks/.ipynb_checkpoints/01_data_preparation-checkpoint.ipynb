{
 "cells": [
  {
   "cell_type": "code",
   "execution_count": 1,
   "id": "9e2338e3-6dd8-4257-97a4-61f020002061",
   "metadata": {},
   "outputs": [
    {
     "name": "stderr",
     "output_type": "stream",
     "text": [
      "Matplotlib is building the font cache; this may take a moment.\n"
     ]
    }
   ],
   "source": [
    "import pandas as pd\n",
    "import numpy as np\n",
    "import matplotlib.pyplot as plt\n",
    "import seaborn as sns\n"
   ]
  },
  {
   "cell_type": "code",
   "execution_count": 2,
   "id": "8da26f22-4b9e-461d-819f-2cfa28443d3e",
   "metadata": {},
   "outputs": [],
   "source": [
    "pd.set_option('display.max_columns', None)\n",
    "sns.set(style=\"whitegrid\")"
   ]
  },
  {
   "cell_type": "code",
   "execution_count": 3,
   "id": "768197cb-e1c3-4270-9b4a-f5704a010840",
   "metadata": {},
   "outputs": [],
   "source": [
    "file_path = '../data/Telco_Customer_Churn_Dataset.csv'\n",
    "df = pd.read_csv(file_path) "
   ]
  },
  {
   "cell_type": "code",
   "execution_count": 4,
   "id": "b19d04b7-701c-4a65-9ebf-ecf2fd7422ba",
   "metadata": {},
   "outputs": [
    {
     "data": {
      "text/html": [
       "<div>\n",
       "<style scoped>\n",
       "    .dataframe tbody tr th:only-of-type {\n",
       "        vertical-align: middle;\n",
       "    }\n",
       "\n",
       "    .dataframe tbody tr th {\n",
       "        vertical-align: top;\n",
       "    }\n",
       "\n",
       "    .dataframe thead th {\n",
       "        text-align: right;\n",
       "    }\n",
       "</style>\n",
       "<table border=\"1\" class=\"dataframe\">\n",
       "  <thead>\n",
       "    <tr style=\"text-align: right;\">\n",
       "      <th></th>\n",
       "      <th>customerID</th>\n",
       "      <th>gender</th>\n",
       "      <th>SeniorCitizen</th>\n",
       "      <th>Partner</th>\n",
       "      <th>Dependents</th>\n",
       "      <th>tenure</th>\n",
       "      <th>PhoneService</th>\n",
       "      <th>MultipleLines</th>\n",
       "      <th>InternetService</th>\n",
       "      <th>OnlineSecurity</th>\n",
       "      <th>OnlineBackup</th>\n",
       "      <th>DeviceProtection</th>\n",
       "      <th>TechSupport</th>\n",
       "      <th>StreamingTV</th>\n",
       "      <th>StreamingMovies</th>\n",
       "      <th>Contract</th>\n",
       "      <th>PaperlessBilling</th>\n",
       "      <th>PaymentMethod</th>\n",
       "      <th>MonthlyCharges</th>\n",
       "      <th>TotalCharges</th>\n",
       "      <th>Churn</th>\n",
       "    </tr>\n",
       "  </thead>\n",
       "  <tbody>\n",
       "    <tr>\n",
       "      <th>0</th>\n",
       "      <td>7590-VHVEG</td>\n",
       "      <td>Female</td>\n",
       "      <td>0</td>\n",
       "      <td>Yes</td>\n",
       "      <td>No</td>\n",
       "      <td>1</td>\n",
       "      <td>No</td>\n",
       "      <td>No phone service</td>\n",
       "      <td>DSL</td>\n",
       "      <td>No</td>\n",
       "      <td>Yes</td>\n",
       "      <td>No</td>\n",
       "      <td>No</td>\n",
       "      <td>No</td>\n",
       "      <td>No</td>\n",
       "      <td>Month-to-month</td>\n",
       "      <td>Yes</td>\n",
       "      <td>Electronic check</td>\n",
       "      <td>29.85</td>\n",
       "      <td>29.85</td>\n",
       "      <td>No</td>\n",
       "    </tr>\n",
       "    <tr>\n",
       "      <th>1</th>\n",
       "      <td>5575-GNVDE</td>\n",
       "      <td>Male</td>\n",
       "      <td>0</td>\n",
       "      <td>No</td>\n",
       "      <td>No</td>\n",
       "      <td>34</td>\n",
       "      <td>Yes</td>\n",
       "      <td>No</td>\n",
       "      <td>DSL</td>\n",
       "      <td>Yes</td>\n",
       "      <td>No</td>\n",
       "      <td>Yes</td>\n",
       "      <td>No</td>\n",
       "      <td>No</td>\n",
       "      <td>No</td>\n",
       "      <td>One year</td>\n",
       "      <td>No</td>\n",
       "      <td>Mailed check</td>\n",
       "      <td>56.95</td>\n",
       "      <td>1889.5</td>\n",
       "      <td>No</td>\n",
       "    </tr>\n",
       "    <tr>\n",
       "      <th>2</th>\n",
       "      <td>3668-QPYBK</td>\n",
       "      <td>Male</td>\n",
       "      <td>0</td>\n",
       "      <td>No</td>\n",
       "      <td>No</td>\n",
       "      <td>2</td>\n",
       "      <td>Yes</td>\n",
       "      <td>No</td>\n",
       "      <td>DSL</td>\n",
       "      <td>Yes</td>\n",
       "      <td>Yes</td>\n",
       "      <td>No</td>\n",
       "      <td>No</td>\n",
       "      <td>No</td>\n",
       "      <td>No</td>\n",
       "      <td>Month-to-month</td>\n",
       "      <td>Yes</td>\n",
       "      <td>Mailed check</td>\n",
       "      <td>53.85</td>\n",
       "      <td>108.15</td>\n",
       "      <td>Yes</td>\n",
       "    </tr>\n",
       "    <tr>\n",
       "      <th>3</th>\n",
       "      <td>7795-CFOCW</td>\n",
       "      <td>Male</td>\n",
       "      <td>0</td>\n",
       "      <td>No</td>\n",
       "      <td>No</td>\n",
       "      <td>45</td>\n",
       "      <td>No</td>\n",
       "      <td>No phone service</td>\n",
       "      <td>DSL</td>\n",
       "      <td>Yes</td>\n",
       "      <td>No</td>\n",
       "      <td>Yes</td>\n",
       "      <td>Yes</td>\n",
       "      <td>No</td>\n",
       "      <td>No</td>\n",
       "      <td>One year</td>\n",
       "      <td>No</td>\n",
       "      <td>Bank transfer (automatic)</td>\n",
       "      <td>42.30</td>\n",
       "      <td>1840.75</td>\n",
       "      <td>No</td>\n",
       "    </tr>\n",
       "    <tr>\n",
       "      <th>4</th>\n",
       "      <td>9237-HQITU</td>\n",
       "      <td>Female</td>\n",
       "      <td>0</td>\n",
       "      <td>No</td>\n",
       "      <td>No</td>\n",
       "      <td>2</td>\n",
       "      <td>Yes</td>\n",
       "      <td>No</td>\n",
       "      <td>Fiber optic</td>\n",
       "      <td>No</td>\n",
       "      <td>No</td>\n",
       "      <td>No</td>\n",
       "      <td>No</td>\n",
       "      <td>No</td>\n",
       "      <td>No</td>\n",
       "      <td>Month-to-month</td>\n",
       "      <td>Yes</td>\n",
       "      <td>Electronic check</td>\n",
       "      <td>70.70</td>\n",
       "      <td>151.65</td>\n",
       "      <td>Yes</td>\n",
       "    </tr>\n",
       "  </tbody>\n",
       "</table>\n",
       "</div>"
      ],
      "text/plain": [
       "   customerID  gender  SeniorCitizen Partner Dependents  tenure PhoneService  \\\n",
       "0  7590-VHVEG  Female              0     Yes         No       1           No   \n",
       "1  5575-GNVDE    Male              0      No         No      34          Yes   \n",
       "2  3668-QPYBK    Male              0      No         No       2          Yes   \n",
       "3  7795-CFOCW    Male              0      No         No      45           No   \n",
       "4  9237-HQITU  Female              0      No         No       2          Yes   \n",
       "\n",
       "      MultipleLines InternetService OnlineSecurity OnlineBackup  \\\n",
       "0  No phone service             DSL             No          Yes   \n",
       "1                No             DSL            Yes           No   \n",
       "2                No             DSL            Yes          Yes   \n",
       "3  No phone service             DSL            Yes           No   \n",
       "4                No     Fiber optic             No           No   \n",
       "\n",
       "  DeviceProtection TechSupport StreamingTV StreamingMovies        Contract  \\\n",
       "0               No          No          No              No  Month-to-month   \n",
       "1              Yes          No          No              No        One year   \n",
       "2               No          No          No              No  Month-to-month   \n",
       "3              Yes         Yes          No              No        One year   \n",
       "4               No          No          No              No  Month-to-month   \n",
       "\n",
       "  PaperlessBilling              PaymentMethod  MonthlyCharges TotalCharges  \\\n",
       "0              Yes           Electronic check           29.85        29.85   \n",
       "1               No               Mailed check           56.95       1889.5   \n",
       "2              Yes               Mailed check           53.85       108.15   \n",
       "3               No  Bank transfer (automatic)           42.30      1840.75   \n",
       "4              Yes           Electronic check           70.70       151.65   \n",
       "\n",
       "  Churn  \n",
       "0    No  \n",
       "1    No  \n",
       "2   Yes  \n",
       "3    No  \n",
       "4   Yes  "
      ]
     },
     "execution_count": 4,
     "metadata": {},
     "output_type": "execute_result"
    }
   ],
   "source": [
    "df.head() "
   ]
  },
  {
   "cell_type": "code",
   "execution_count": 5,
   "id": "8b29ee24-988c-4129-90d0-ecc6615a6b8e",
   "metadata": {},
   "outputs": [
    {
     "name": "stdout",
     "output_type": "stream",
     "text": [
      "Shape: (7043, 21)\n",
      "\n",
      "Info:\n",
      "<class 'pandas.core.frame.DataFrame'>\n",
      "RangeIndex: 7043 entries, 0 to 7042\n",
      "Data columns (total 21 columns):\n",
      " #   Column            Non-Null Count  Dtype  \n",
      "---  ------            --------------  -----  \n",
      " 0   customerID        7043 non-null   object \n",
      " 1   gender            7043 non-null   object \n",
      " 2   SeniorCitizen     7043 non-null   int64  \n",
      " 3   Partner           7043 non-null   object \n",
      " 4   Dependents        7043 non-null   object \n",
      " 5   tenure            7043 non-null   int64  \n",
      " 6   PhoneService      7043 non-null   object \n",
      " 7   MultipleLines     7043 non-null   object \n",
      " 8   InternetService   7043 non-null   object \n",
      " 9   OnlineSecurity    7043 non-null   object \n",
      " 10  OnlineBackup      7043 non-null   object \n",
      " 11  DeviceProtection  7043 non-null   object \n",
      " 12  TechSupport       7043 non-null   object \n",
      " 13  StreamingTV       7043 non-null   object \n",
      " 14  StreamingMovies   7043 non-null   object \n",
      " 15  Contract          7043 non-null   object \n",
      " 16  PaperlessBilling  7043 non-null   object \n",
      " 17  PaymentMethod     7043 non-null   object \n",
      " 18  MonthlyCharges    7043 non-null   float64\n",
      " 19  TotalCharges      7043 non-null   object \n",
      " 20  Churn             7043 non-null   object \n",
      "dtypes: float64(1), int64(2), object(18)\n",
      "memory usage: 1.1+ MB\n"
     ]
    }
   ],
   "source": [
    "# Check the shape and data types\n",
    "print(\"Shape:\", df.shape)\n",
    "print(\"\\nInfo:\")\n",
    "df.info() "
   ]
  },
  {
   "cell_type": "code",
   "execution_count": 6,
   "id": "a72290e6-7d68-4108-bc75-5012b7ca7d15",
   "metadata": {},
   "outputs": [
    {
     "data": {
      "text/plain": [
       "customerID          0\n",
       "gender              0\n",
       "SeniorCitizen       0\n",
       "Partner             0\n",
       "Dependents          0\n",
       "tenure              0\n",
       "PhoneService        0\n",
       "MultipleLines       0\n",
       "InternetService     0\n",
       "OnlineSecurity      0\n",
       "OnlineBackup        0\n",
       "DeviceProtection    0\n",
       "TechSupport         0\n",
       "StreamingTV         0\n",
       "StreamingMovies     0\n",
       "Contract            0\n",
       "PaperlessBilling    0\n",
       "PaymentMethod       0\n",
       "MonthlyCharges      0\n",
       "TotalCharges        0\n",
       "Churn               0\n",
       "dtype: int64"
      ]
     },
     "execution_count": 6,
     "metadata": {},
     "output_type": "execute_result"
    }
   ],
   "source": [
    "# Missing values count per column\n",
    "df.isnull().sum()"
   ]
  },
  {
   "cell_type": "code",
   "execution_count": 7,
   "id": "be79fb8d-8edd-479f-ae58-0ebf581e5ff9",
   "metadata": {},
   "outputs": [
    {
     "name": "stdout",
     "output_type": "stream",
     "text": [
      "Categorical columns:\n",
      " ['customerID', 'gender', 'Partner', 'Dependents', 'PhoneService', 'MultipleLines', 'InternetService', 'OnlineSecurity', 'OnlineBackup', 'DeviceProtection', 'TechSupport', 'StreamingTV', 'StreamingMovies', 'Contract', 'PaperlessBilling', 'PaymentMethod', 'TotalCharges', 'Churn']\n"
     ]
    }
   ],
   "source": [
    "# View categorical columns\n",
    "categorical_cols = df.select_dtypes(include=['object']).columns\n",
    "print(\"Categorical columns:\\n\", categorical_cols.tolist())"
   ]
  },
  {
   "cell_type": "code",
   "execution_count": 8,
   "id": "0948d38c-50cf-416f-aafe-7c31422eec98",
   "metadata": {},
   "outputs": [],
   "source": [
    "# Convert TotalCharges to numeric (some values may be empty strings)\n",
    "df['TotalCharges'] = pd.to_numeric(df['TotalCharges'], errors='coerce')\n"
   ]
  },
  {
   "cell_type": "code",
   "execution_count": 9,
   "id": "aabaf9da-3c3d-49db-96e5-4623ea8a4fd3",
   "metadata": {},
   "outputs": [
    {
     "name": "stdout",
     "output_type": "stream",
     "text": [
      "Missing TotalCharges values after conversion: 11\n"
     ]
    }
   ],
   "source": [
    "# Check if any nulls were introduced\n",
    "print(\"Missing TotalCharges values after conversion:\", df['TotalCharges'].isnull().sum())"
   ]
  },
  {
   "cell_type": "code",
   "execution_count": 10,
   "id": "40a9cffd-ba19-4308-adaf-edfa281e6e83",
   "metadata": {},
   "outputs": [],
   "source": [
    "#Since ML models cannot handle missing numeric values, and 11 rows out of 7043 is a very small fraction, it's best to drop those rows\n",
    "df = df.dropna(subset=['TotalCharges'])\n"
   ]
  },
  {
   "cell_type": "code",
   "execution_count": 11,
   "id": "5799e575-4c02-45e7-8c30-4cad697ee00f",
   "metadata": {},
   "outputs": [
    {
     "name": "stdout",
     "output_type": "stream",
     "text": [
      "Remaining missing values: 0\n"
     ]
    }
   ],
   "source": [
    "#verifying\n",
    "print(\"Remaining missing values:\", df.isnull().sum().sum())"
   ]
  },
  {
   "cell_type": "code",
   "execution_count": 13,
   "id": "142de5b2-872c-4c0f-bdd5-49545cde3a7e",
   "metadata": {},
   "outputs": [],
   "source": [
    "#columns that don’t help our prediction — customerID. It's just a unique identifier and contains no meaningful pattern.\n",
    "df.drop('customerID', axis=1, inplace=True)"
   ]
  },
  {
   "cell_type": "code",
   "execution_count": 14,
   "id": "c5346c57-c0aa-43ab-9c0f-bad55dbde7a2",
   "metadata": {},
   "outputs": [
    {
     "name": "stdout",
     "output_type": "stream",
     "text": [
      "   gender  Partner  Dependents  PhoneService  PaperlessBilling  Churn\n",
      "0       0        1           0             0                 1      0\n",
      "1       1        0           0             1                 0      0\n",
      "2       1        0           0             1                 1      1\n",
      "3       1        0           0             0                 0      0\n",
      "4       0        0           0             1                 1      1\n"
     ]
    },
    {
     "name": "stderr",
     "output_type": "stream",
     "text": [
      "C:\\Users\\Lenovo\\AppData\\Local\\Temp\\ipykernel_8212\\1668703771.py:6: FutureWarning: Downcasting behavior in `replace` is deprecated and will be removed in a future version. To retain the old behavior, explicitly call `result.infer_objects(copy=False)`. To opt-in to the future behavior, set `pd.set_option('future.no_silent_downcasting', True)`\n",
      "  df[binary_cols] = df[binary_cols].replace({\n"
     ]
    }
   ],
   "source": [
    "# First, list binary categorical columns\n",
    "binary_cols = ['gender', 'Partner', 'Dependents', 'PhoneService',\n",
    "               'PaperlessBilling', 'Churn']\n",
    "\n",
    "# Map 'Yes'/'No' and 'Male'/'Female' to 1/0\n",
    "df[binary_cols] = df[binary_cols].replace({\n",
    "    'Yes': 1,\n",
    "    'No': 0,\n",
    "    'Male': 1,\n",
    "    'Female': 0\n",
    "})\n",
    "\n",
    "# Check if they're converted\n",
    "print(df[binary_cols].head())\n"
   ]
  },
  {
   "cell_type": "code",
   "execution_count": 15,
   "id": "34a5c902-dff7-49a3-92ed-c7c88171fd80",
   "metadata": {},
   "outputs": [
    {
     "name": "stdout",
     "output_type": "stream",
     "text": [
      "New shape after encoding: (7032, 31)\n"
     ]
    }
   ],
   "source": [
    "# List of columns to one-hot encode\n",
    "multi_class_cols = ['MultipleLines', 'InternetService', 'OnlineSecurity',\n",
    "                    'OnlineBackup', 'DeviceProtection', 'TechSupport',\n",
    "                    'StreamingTV', 'StreamingMovies', 'Contract', 'PaymentMethod']\n",
    "\n",
    "# Apply one-hot encoding and drop the first category to avoid dummy variable trap\n",
    "df = pd.get_dummies(df, columns=multi_class_cols, drop_first=True)\n",
    "\n",
    "# Check new shape\n",
    "print(\"New shape after encoding:\", df.shape)\n"
   ]
  },
  {
   "cell_type": "code",
   "execution_count": 17,
   "id": "680a054f-c198-4d20-8ee6-4bae5879f1a4",
   "metadata": {},
   "outputs": [],
   "source": [
    "# Separate the target column (Churn) from the features\n",
    "X = df.drop('Churn', axis=1)  # Features (everything except 'Churn')\n",
    "y = df['Churn']  # Target (Churn column)\n"
   ]
  },
  {
   "cell_type": "code",
   "execution_count": 18,
   "id": "632a69be-e166-43c2-b91c-e93395b00a21",
   "metadata": {},
   "outputs": [
    {
     "name": "stdout",
     "output_type": "stream",
     "text": [
      "     gender  SeniorCitizen   Partner  Dependents    tenure  PhoneService  \\\n",
      "0 -1.009430      -0.440327  1.035617   -0.652305 -1.280248     -3.056334   \n",
      "1  0.990658      -0.440327 -0.965608   -0.652305  0.064303      0.327189   \n",
      "2  0.990658      -0.440327 -0.965608   -0.652305 -1.239504      0.327189   \n",
      "3  0.990658      -0.440327 -0.965608   -0.652305  0.512486     -3.056334   \n",
      "4 -1.009430      -0.440327 -0.965608   -0.652305 -1.239504      0.327189   \n",
      "\n",
      "   PaperlessBilling  MonthlyCharges  TotalCharges  \\\n",
      "0          0.828939       -1.161694     -0.994194   \n",
      "1         -1.206361       -0.260878     -0.173740   \n",
      "2          0.828939       -0.363923     -0.959649   \n",
      "3         -1.206361       -0.747850     -0.195248   \n",
      "4          0.828939        0.196178     -0.940457   \n",
      "\n",
      "   MultipleLines_No phone service  MultipleLines_Yes  \\\n",
      "0                        3.056334          -0.854336   \n",
      "1                       -0.327189          -0.854336   \n",
      "2                       -0.327189          -0.854336   \n",
      "3                        3.056334          -0.854336   \n",
      "4                       -0.327189          -0.854336   \n",
      "\n",
      "   InternetService_Fiber optic  InternetService_No  \\\n",
      "0                    -0.886896            -0.52513   \n",
      "1                    -0.886896            -0.52513   \n",
      "2                    -0.886896            -0.52513   \n",
      "3                    -0.886896            -0.52513   \n",
      "4                     1.127527            -0.52513   \n",
      "\n",
      "   OnlineSecurity_No internet service  OnlineSecurity_Yes  \\\n",
      "0                            -0.52513           -0.633746   \n",
      "1                            -0.52513            1.577918   \n",
      "2                            -0.52513            1.577918   \n",
      "3                            -0.52513            1.577918   \n",
      "4                            -0.52513           -0.633746   \n",
      "\n",
      "   OnlineBackup_No internet service  OnlineBackup_Yes  \\\n",
      "0                          -0.52513          1.378330   \n",
      "1                          -0.52513         -0.725516   \n",
      "2                          -0.52513          1.378330   \n",
      "3                          -0.52513         -0.725516   \n",
      "4                          -0.52513         -0.725516   \n",
      "\n",
      "   DeviceProtection_No internet service  DeviceProtection_Yes  \\\n",
      "0                              -0.52513             -0.723918   \n",
      "1                              -0.52513              1.381372   \n",
      "2                              -0.52513             -0.723918   \n",
      "3                              -0.52513              1.381372   \n",
      "4                              -0.52513             -0.723918   \n",
      "\n",
      "   TechSupport_No internet service  TechSupport_Yes  \\\n",
      "0                         -0.52513        -0.639260   \n",
      "1                         -0.52513        -0.639260   \n",
      "2                         -0.52513        -0.639260   \n",
      "3                         -0.52513         1.564308   \n",
      "4                         -0.52513        -0.639260   \n",
      "\n",
      "   StreamingTV_No internet service  StreamingTV_Yes  \\\n",
      "0                         -0.52513        -0.790186   \n",
      "1                         -0.52513        -0.790186   \n",
      "2                         -0.52513        -0.790186   \n",
      "3                         -0.52513        -0.790186   \n",
      "4                         -0.52513        -0.790186   \n",
      "\n",
      "   StreamingMovies_No internet service  StreamingMovies_Yes  \\\n",
      "0                             -0.52513            -0.796849   \n",
      "1                             -0.52513            -0.796849   \n",
      "2                             -0.52513            -0.796849   \n",
      "3                             -0.52513            -0.796849   \n",
      "4                             -0.52513            -0.796849   \n",
      "\n",
      "   Contract_One year  Contract_Two year  \\\n",
      "0          -0.514537          -0.561364   \n",
      "1           1.943495          -0.561364   \n",
      "2          -0.514537          -0.561364   \n",
      "3           1.943495          -0.561364   \n",
      "4          -0.514537          -0.561364   \n",
      "\n",
      "   PaymentMethod_Credit card (automatic)  PaymentMethod_Electronic check  \\\n",
      "0                              -0.525351                        1.404764   \n",
      "1                              -0.525351                       -0.711863   \n",
      "2                              -0.525351                       -0.711863   \n",
      "3                              -0.525351                       -0.711863   \n",
      "4                              -0.525351                        1.404764   \n",
      "\n",
      "   PaymentMethod_Mailed check  \n",
      "0                   -0.543604  \n",
      "1                    1.839576  \n",
      "2                    1.839576  \n",
      "3                   -0.543604  \n",
      "4                   -0.543604  \n"
     ]
    }
   ],
   "source": [
    "from sklearn.preprocessing import StandardScaler\n",
    "\n",
    "# Initialize the scaler\n",
    "scaler = StandardScaler()\n",
    "\n",
    "# Scale the features\n",
    "X_scaled = scaler.fit_transform(X)\n",
    "\n",
    "# Convert the scaled features back into a DataFrame for easy viewing\n",
    "X_scaled_df = pd.DataFrame(X_scaled, columns=X.columns)\n",
    "\n",
    "# Verify by checking the scaled data\n",
    "print(X_scaled_df.head())\n"
   ]
  },
  {
   "cell_type": "code",
   "execution_count": null,
   "id": "e445f843-d114-45f9-b850-e4fa323c2048",
   "metadata": {},
   "outputs": [],
   "source": []
  }
 ],
 "metadata": {
  "kernelspec": {
   "display_name": "Python 3 (ipykernel)",
   "language": "python",
   "name": "python3"
  },
  "language_info": {
   "codemirror_mode": {
    "name": "ipython",
    "version": 3
   },
   "file_extension": ".py",
   "mimetype": "text/x-python",
   "name": "python",
   "nbconvert_exporter": "python",
   "pygments_lexer": "ipython3",
   "version": "3.12.3"
  }
 },
 "nbformat": 4,
 "nbformat_minor": 5
}
